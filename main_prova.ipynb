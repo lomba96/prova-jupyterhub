{
 "cells": [
  {
   "cell_type": "code",
   "execution_count": null,
   "id": "08868c69-60fe-4d93-86a0-c3cc4ba7d7da",
   "metadata": {},
   "outputs": [],
   "source": [
    "# Notebook di prova"
   ]
  },
  {
   "cell_type": "code",
   "execution_count": null,
   "id": "8a86c315-b7dd-4c40-adbe-094840cc56d8",
   "metadata": {},
   "outputs": [],
   "source": [
    "print(\"ok\")"
   ]
  }
 ],
 "metadata": {
  "kernelspec": {
   "display_name": "Python 3 (ipykernel)",
   "language": "python",
   "name": "python3"
  },
  "language_info": {
   "codemirror_mode": {
    "name": "ipython",
    "version": 3
   },
   "file_extension": ".py",
   "mimetype": "text/x-python",
   "name": "python",
   "nbconvert_exporter": "python",
   "pygments_lexer": "ipython3",
   "version": "3.12.10"
  }
 },
 "nbformat": 4,
 "nbformat_minor": 5
}
